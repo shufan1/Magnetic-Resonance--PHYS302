{
 "cells": [
  {
   "cell_type": "code",
   "execution_count": 1,
   "metadata": {},
   "outputs": [],
   "source": [
    "import numpy as np\n",
    "import matplotlib.pyplot as plt\n",
    "%matplotlib inline\n",
    "\n",
    "plt.rc('font',family ='serif')\n",
    "plt.rc('text',usetex =True)"
   ]
  },
  {
   "cell_type": "code",
   "execution_count": 2,
   "metadata": {},
   "outputs": [],
   "source": [
    "ef f(Psi,t,params):\n",
    "    w0,w1,w = params\n",
    "    w0 = w0*w00\n",
    "    w1 = w1*w00\n",
    "    w = w*w00\n",
    "    aR = Psi[0]\n",
    "    aI = Psi[1]\n",
    "    bR = Psi[2]\n",
    "    bI = Psi[3]\n",
    "    daR = 1/2*(w0*aI+w1*np.cos(w*t)*bI)\n",
    "    daI = -1/2*(w0*aR+w1*np.cos(w*t)*bR)\n",
    "    dbR =  1/2*(w1*np.cos(w*t)*aI-w0*bI)\n",
    "    dbI =  -1/2*(w1*np.cos(w*t)*aR-w0*bR)\n",
    "    \n",
    "    return np.array([daR,daI,dbR,dbI])\n",
    "\n",
    "\n",
    "def RK_Solve(f,t0,tf,aR0,aI0,bR0,bI0,N,params):\n",
    "    w0,w1,w = params\n",
    "    h = (tf-t0)/N\n",
    "    tpoints = np.arange(t0,tf,h)\n",
    "    aR = []\n",
    "    aI =[]\n",
    "    bR= []\n",
    "    bI = []\n",
    "\n",
    "    r = np.array([aR0,aI0,bR0,bI0],complex)\n",
    "    for t in tpoints:\n",
    "        aR.append(r[0])\n",
    "        aI.append(r[1])\n",
    "        bR.append(r[2])\n",
    "        bI.append(r[3])\n",
    "\n",
    "        k1 = h*f(r,t,params)\n",
    "        k2 = h*f(r+0.5*k1,t+0.5*h,params)\n",
    "        k3 = h*f(r+0.5*k2,t+0.5*h,params)\n",
    "        k4 = h*f(r+k3,t+h,params)\n",
    "        r += 1/6*(k1+2.*k2+2.*k3+k4)\n",
    "         \n",
    "    return tpoints,np.array(aR),np.array(aI),np.array(bR),np.array(bI)\n",
    "\n"
   ]
  },
  {
   "cell_type": "code",
   "execution_count": 4,
   "metadata": {},
   "outputs": [],
   "source": [
    "# find P_up, P_down and transition rate\n",
    "def P_z(w0,w1,w,r0):\n",
    "    t = np.linspace(0,3*T1,600)\n",
    "    params = [w0,w1,w]\n",
    "#     t,aR,aI,bR,bI= RK_Solve(f,0,3*T1,1.,0.,0.,0.,5000, params =(w0,w1,w)) #solce by Runge Kutta\n",
    "    psoln = odeint(f, r0, t, args=(params,)) # solve by odeint\n",
    "    aR = psoln[:,0]\n",
    "    aI = psoln[:,1]\n",
    "    bR = psoln[:,2]\n",
    "    bI = psoln[:,3]\n",
    "    P_up = list(map(lambda r,i: abs(r+i*1j)**2,aR,aI))\n",
    "    P_down = list(map(lambda r,i: abs(r+i*1j)**2,bR,bI))\n",
    "    transition_rate = np.max(P_down)\n",
    "    return t,P_up,P_down,transition_rate"
   ]
  },
  {
   "cell_type": "code",
   "execution_count": 5,
   "metadata": {},
   "outputs": [],
   "source": [
    "### some paramters from the data in the book\n",
    "hbar = 4.135667696*10**-15\n",
    "g = 2\n",
    "q = 4.803207 *10**(-10) # in Gaussian units\n",
    "m = 1.883533* 10**(-25)  \n",
    "c = 3.0*10**10 #cm/s\n",
    "B0 = 60\n",
    "B1 = 6\n",
    "w00 = g*q/(2*m*c)*B0\n",
    "w1 = g*q/(2*m*c)*B1\n",
    "T1 = 2*np.pi/w1 #12 microscond 12*10^-6"
   ]
  },
  {
   "cell_type": "markdown",
   "metadata": {},
   "source": [
    "### At resonance, and a weak osciallting field"
   ]
  },
  {
   "cell_type": "code",
   "execution_count": 6,
   "metadata": {},
   "outputs": [
    {
     "ename": "NameError",
     "evalue": "name 'odeint' is not defined",
     "output_type": "error",
     "traceback": [
      "\u001b[1;31m---------------------------------------------------------------------------\u001b[0m",
      "\u001b[1;31mNameError\u001b[0m                                 Traceback (most recent call last)",
      "\u001b[1;32m<ipython-input-6-7e0e019c59f8>\u001b[0m in \u001b[0;36m<module>\u001b[1;34m()\u001b[0m\n\u001b[0;32m      1\u001b[0m \u001b[0mr0\u001b[0m \u001b[1;33m=\u001b[0m \u001b[1;33m[\u001b[0m\u001b[1;36m1.0\u001b[0m\u001b[1;33m,\u001b[0m\u001b[1;36m0.\u001b[0m\u001b[1;33m,\u001b[0m\u001b[1;36m0.\u001b[0m\u001b[1;33m,\u001b[0m\u001b[1;36m0.\u001b[0m\u001b[1;33m]\u001b[0m\u001b[1;33m\u001b[0m\u001b[0m\n\u001b[1;32m----> 2\u001b[1;33m \u001b[0mt\u001b[0m\u001b[1;33m,\u001b[0m\u001b[0mP_up\u001b[0m\u001b[1;33m,\u001b[0m\u001b[0mP_down\u001b[0m\u001b[1;33m,\u001b[0m\u001b[0mtransition_rate\u001b[0m \u001b[1;33m=\u001b[0m \u001b[0mP_z\u001b[0m\u001b[1;33m(\u001b[0m\u001b[1;36m1.0\u001b[0m\u001b[1;33m,\u001b[0m\u001b[1;36m0.1\u001b[0m\u001b[1;33m,\u001b[0m\u001b[1;36m1.0\u001b[0m\u001b[1;33m,\u001b[0m\u001b[0mr0\u001b[0m\u001b[1;33m)\u001b[0m\u001b[1;33m\u001b[0m\u001b[0m\n\u001b[0m\u001b[0;32m      3\u001b[0m \u001b[0mfig\u001b[0m\u001b[1;33m,\u001b[0m\u001b[0max\u001b[0m\u001b[1;33m=\u001b[0m \u001b[0mplt\u001b[0m\u001b[1;33m.\u001b[0m\u001b[0msubplots\u001b[0m\u001b[1;33m(\u001b[0m\u001b[0mfigsize\u001b[0m\u001b[1;33m=\u001b[0m\u001b[1;33m(\u001b[0m\u001b[1;36m20\u001b[0m\u001b[1;33m,\u001b[0m\u001b[1;36m11\u001b[0m\u001b[1;33m)\u001b[0m\u001b[1;33m)\u001b[0m\u001b[1;33m\u001b[0m\u001b[0m\n\u001b[0;32m      4\u001b[0m \u001b[0max\u001b[0m\u001b[1;33m.\u001b[0m\u001b[0mplot\u001b[0m\u001b[1;33m(\u001b[0m\u001b[0mt\u001b[0m\u001b[1;33m,\u001b[0m\u001b[0mP_up\u001b[0m\u001b[1;33m,\u001b[0m\u001b[0mlabel\u001b[0m\u001b[1;33m=\u001b[0m\u001b[1;34m'Probability of spin up $| \\langle +z | \\psi \\\\rangle |^2$'\u001b[0m\u001b[1;33m)\u001b[0m\u001b[1;33m\u001b[0m\u001b[0m\n\u001b[0;32m      5\u001b[0m \u001b[0max\u001b[0m\u001b[1;33m.\u001b[0m\u001b[0mplot\u001b[0m\u001b[1;33m(\u001b[0m\u001b[0mt\u001b[0m\u001b[1;33m,\u001b[0m\u001b[0mP_down\u001b[0m\u001b[1;33m,\u001b[0m\u001b[0mlabel\u001b[0m\u001b[1;33m=\u001b[0m\u001b[1;34m'Probability of spin down $| \\langle -z | \\psi \\\\rangle |^2$'\u001b[0m\u001b[1;33m)\u001b[0m\u001b[1;33m\u001b[0m\u001b[0m\n",
      "\u001b[1;32m<ipython-input-4-a5db0c52e4e7>\u001b[0m in \u001b[0;36mP_z\u001b[1;34m(w0, w1, w, r0)\u001b[0m\n\u001b[0;32m      4\u001b[0m     \u001b[0mparams\u001b[0m \u001b[1;33m=\u001b[0m \u001b[1;33m[\u001b[0m\u001b[0mw0\u001b[0m\u001b[1;33m,\u001b[0m\u001b[0mw1\u001b[0m\u001b[1;33m,\u001b[0m\u001b[0mw\u001b[0m\u001b[1;33m]\u001b[0m\u001b[1;33m\u001b[0m\u001b[0m\n\u001b[0;32m      5\u001b[0m \u001b[1;31m#     t,aR,aI,bR,bI= RK_Solve(f,0,3*T1,1.,0.,0.,0.,5000, params =(w0,w1,w)) #solce by Runge Kutta\u001b[0m\u001b[1;33m\u001b[0m\u001b[1;33m\u001b[0m\u001b[0m\n\u001b[1;32m----> 6\u001b[1;33m     \u001b[0mpsoln\u001b[0m \u001b[1;33m=\u001b[0m \u001b[0modeint\u001b[0m\u001b[1;33m(\u001b[0m\u001b[0mf\u001b[0m\u001b[1;33m,\u001b[0m \u001b[0mr0\u001b[0m\u001b[1;33m,\u001b[0m \u001b[0mt\u001b[0m\u001b[1;33m,\u001b[0m \u001b[0margs\u001b[0m\u001b[1;33m=\u001b[0m\u001b[1;33m(\u001b[0m\u001b[0mparams\u001b[0m\u001b[1;33m,\u001b[0m\u001b[1;33m)\u001b[0m\u001b[1;33m)\u001b[0m \u001b[1;31m# solve by odeint\u001b[0m\u001b[1;33m\u001b[0m\u001b[0m\n\u001b[0m\u001b[0;32m      7\u001b[0m     \u001b[0maR\u001b[0m \u001b[1;33m=\u001b[0m \u001b[0mpsoln\u001b[0m\u001b[1;33m[\u001b[0m\u001b[1;33m:\u001b[0m\u001b[1;33m,\u001b[0m\u001b[1;36m0\u001b[0m\u001b[1;33m]\u001b[0m\u001b[1;33m\u001b[0m\u001b[0m\n\u001b[0;32m      8\u001b[0m     \u001b[0maI\u001b[0m \u001b[1;33m=\u001b[0m \u001b[0mpsoln\u001b[0m\u001b[1;33m[\u001b[0m\u001b[1;33m:\u001b[0m\u001b[1;33m,\u001b[0m\u001b[1;36m1\u001b[0m\u001b[1;33m]\u001b[0m\u001b[1;33m\u001b[0m\u001b[0m\n",
      "\u001b[1;31mNameError\u001b[0m: name 'odeint' is not defined"
     ]
    }
   ],
   "source": [
    "r0 = [1.0,0.,0.,0.]\n",
    "t,P_up,P_down,transition_rate = P_z(1.0,0.1,1.0,r0)\n",
    "fig,ax= plt.subplots(figsize=(20,11))\n",
    "ax.plot(t,P_up,label='Probability of spin up $| \\langle +z | \\psi \\\\rangle |^2$')\n",
    "ax.plot(t,P_down,label='Probability of spin down $| \\langle -z | \\psi \\\\rangle |^2$')\n",
    "ax.set_title('$f_0= %0.2f kHz$, $f_1 = %0.2f kHz$(applied field strength), $f = %0.2f kHz$(applied field frequency)'%(f0,f1,fap), fontsize=30)\n",
    "ax.set_xlim(0,3*T1)\n",
    "ax.legend(loc='upper right', fontsize='xx-large')\n",
    "# ax.set_ylabel('$Probablity$ ')\n",
    "ax.set_xlabel('$t$')\n",
    "ax.set_xticks(np.arange(0,3*T1,T1/2))\n",
    "#     ax.set_xticklabels(['','$\\\\frac{\\pi}{\\omega_1}$','$\\\\frac{2 \\pi }{\\omega_1}$','$\\\\frac{3 \\pi }{\\omega_1}$','$\\\\frac{4 \\pi }{\\omega_1}$','$\\\\frac{5 \\pi }{\\omega_1}$'],fontsize=30)\n",
    "ax.grid(True)\n",
    "transition_rate = np.max(P_down)\n",
    "ax.annotate(\"Transition rate = %0.2f\"%transition_rate, (0.71,0.8),xycoords = \"figure fraction\", fontsize = 25)\n",
    "#     return fig\n",
    "\n",
    "# plot_prob(1.,0.1,1.)\n",
    "# plt.show()\n",
    "# plt.savefig('C:/Users/lenovo/Desktop/PHYS302/f080f80.png')   \n",
    "\n",
    "# plot_prob(1.,0.1,0.2)\n",
    "# plt.show()\n"
   ]
  },
  {
   "cell_type": "markdown",
   "metadata": {
    "scrolled": false
   },
   "source": [
    "### varying the frequency of the oscillating field - transition rate"
   ]
  },
  {
   "cell_type": "code",
   "execution_count": 5,
   "metadata": {},
   "outputs": [],
   "source": [
    "def plot_transition_rate(w0,w1): \n",
    "    w0 = w0*w00\n",
    "    w1 = w1*w00\n",
    "    #b the factor between B0 and B1\n",
    "    w_list = np.arange(0,2.2,0.02)\n",
    "    rate = np.array(list(map(lambda w: R_k(w0,w1,w,r0), w_list)))[:,3]\n",
    "\n",
    "    fig2,ax2 = plt.subplots(figsize=(15,7))\n",
    "    ax2.plot(w_list,rate,'o-',markersize=8)\n",
    "    ax2.grid(True)\n",
    "    ax2.set_xlabel('$\\\\frac{\\omega}{\\omega_0}$', fontsize=20)\n",
    "    ax2.set_title('Transtion Rate vs oscillating field frequency $\\omega$', fontsize=20)\n",
    "    ax2.xaxis.set_label_coords(1.01, -0.01)\n",
    "#     ax.set_xticks(np\\.arange(0,3,1))\n",
    "#     ax.set_xticklabels(['','$\\\\frac{1}{\\omega_1}$','$\\\\frac{2 \\pi }{\\omega_1}$','$\\\\frac{3 \\pi }{\\omega_1}$','$\\\\frac{4 \\pi }{\\omega_1\n",
    "#    "
   ]
  },
  {
   "cell_type": "code",
   "execution_count": 22,
   "metadata": {},
   "outputs": [
    {
     "data": {
      "image/png": "[encoded data removed]",
      "text/plain": [
       "<Figure size 1080x504 with 1 Axes>"
      ]
     },
     "metadata": {},
     "output_type": "display_data"
    }
   ],
   "source": [
    "plot_transition_rate(1.,0.9)\n",
    "# plt.savefig('C:/Users/lenovo/Desktop/PHYS302/varyingOmega.png')\n",
    "# transition_rate(1.,0.6)"
   ]
  },
  {
   "cell_type": "markdown",
   "metadata": {},
   "source": [
    "### Interactively adjusting applied frequency and applied field strength"
   ]
  },
  {
   "cell_type": "code",
   "execution_count": 7,
   "metadata": {},
   "outputs": [],
   "source": [
    "import ipywidgets as widgets\n",
    "from ipywidgets import interact, interact_manual\n"
   ]
  },
  {
   "cell_type": "code",
   "execution_count": 10,
   "metadata": {},
   "outputs": [
    {
     "data": {
      "application/vnd.jupyter.widget-view+json": {
       "model_id": "87db8344a5c74b78966f807b1a59be3b",
       "version_major": 2,
       "version_minor": 0
      },
      "text/html": [
       "<p>Failed to display Jupyter Widget of type <code>interactive</code>.</p>\n",
       "<p>\n",
       "  If you're reading this message in the Jupyter Notebook or JupyterLab Notebook, it may mean\n",
       "  that the widgets JavaScript is still loading. If this message persists, it\n",
       "  likely means that the widgets JavaScript library is either not installed or\n",
       "  not enabled. See the <a href=\"https://ipywidgets.readthedocs.io/en/stable/user_install.html\">Jupyter\n",
       "  Widgets Documentation</a> for setup instructions.\n",
       "</p>\n",
       "<p>\n",
       "  If you're reading this message in another frontend (for example, a static\n",
       "  rendering on GitHub or <a href=\"https://nbviewer.jupyter.org/\">NBViewer</a>),\n",
       "  it may mean that your frontend doesn't currently support widgets.\n",
       "</p>\n"
      ],
      "text/plain": [
       "interactive(children=(FloatSlider(value=1.0, description='Intrinsic $\\\\omega_0$', max=2.0, step=0.05), FloatSlider(value=0.01, description='B1 $\\\\omega_1$', max=2.01, min=0.01, step=0.05), FloatSlider(value=0.0, description='Applied $\\\\omega$', max=2.0, step=0.05), Output()), _dom_classes=('widget-interact',))"
      ]
     },
     "metadata": {},
     "output_type": "display_data"
    }
   ],
   "source": [
    "interact(plot_prob, w0 = widgets.FloatSlider(min=0, max=2,step=0.05,value=1., description='Intrinsic $\\omega_0$'),\n",
    "         w1 = widgets.FloatSlider(min=0.01, max=2.01,step=0.05, description='B1 $\\omega_1$'),\n",
    "         w = widgets.FloatSlider(min=0, max=2,step=0.05, description='Applied $\\omega$'))\n",
    "plt.show()"
   ]
  },
  {
   "cell_type": "markdown",
   "metadata": {},
   "source": [
    "### Interactively adjusting the strength of DC and AC signals: transtion rate vs $\\omega$"
   ]
  },
  {
   "cell_type": "code",
   "execution_count": 11,
   "metadata": {},
   "outputs": [
    {
     "data": {
      "application/vnd.jupyter.widget-view+json": {
       "model_id": "feccec1bbb60463496efe178cc6f3cc3",
       "version_major": 2,
       "version_minor": 0
      },
      "text/html": [
       "<p>Failed to display Jupyter Widget of type <code>interactive</code>.</p>\n",
       "<p>\n",
       "  If you're reading this message in the Jupyter Notebook or JupyterLab Notebook, it may mean\n",
       "  that the widgets JavaScript is still loading. If this message persists, it\n",
       "  likely means that the widgets JavaScript library is either not installed or\n",
       "  not enabled. See the <a href=\"https://ipywidgets.readthedocs.io/en/stable/user_install.html\">Jupyter\n",
       "  Widgets Documentation</a> for setup instructions.\n",
       "</p>\n",
       "<p>\n",
       "  If you're reading this message in another frontend (for example, a static\n",
       "  rendering on GitHub or <a href=\"https://nbviewer.jupyter.org/\">NBViewer</a>),\n",
       "  it may mean that your frontend doesn't currently support widgets.\n",
       "</p>\n"
      ],
      "text/plain": [
       "interactive(children=(FloatSlider(value=1.0, description='DC $B_0$ $\\\\omega_0$', max=2.0, step=0.05), FloatSlider(value=0.01, description='AC $B1$ $\\\\omega_1$', max=2.01, min=0.01, step=0.05), Output()), _dom_classes=('widget-interact',))"
      ]
     },
     "metadata": {},
     "output_type": "display_data"
    }
   ],
   "source": [
    "interact(plot_transition_rate, w0 = widgets.FloatSlider(min=0, max=2,step=0.05,value=1., description='DC $B_0$ $\\omega_0$'),\n",
    "         w1 = widgets.FloatSlider(min=0.01, max=2.01,step=0.05, description='AC $B1$ $\\omega_1$'))\n",
    "plt.show()"
   ]
  },
  {
   "cell_type": "markdown",
   "metadata": {},
   "source": [
    "### Spin cone animation"
   ]
  },
  {
   "cell_type": "code",
   "execution_count": 16,
   "metadata": {},
   "outputs": [],
   "source": [
    "w0 = 1*w00\n",
    "w1 = 0.1*w00\n",
    "w = 1*w00\n",
    "T = 2*np.pi/w1\n",
    "t,aR,aI,bR,bI= RK_Solve(f,0,3*T1,1.,0.,0.,0.,5000, params =(w0,w1,w))\n",
    "P_up = np.array(list(map(lambda r,i: abs(r+i*1j)**2,aR,aI)))\n",
    "P_down = np.array(list(map(lambda r,i: abs(r+i*1j)**2,bR,bI)))\n"
   ]
  },
  {
   "cell_type": "code",
   "execution_count": 17,
   "metadata": {},
   "outputs": [
    {
     "data": {
      "text/plain": [
       "array([ 0.5       ,  0.49999645,  0.49998582, ..., -0.49981541,\n",
       "       -0.49982999, -0.49983934])"
      ]
     },
     "execution_count": 17,
     "metadata": {},
     "output_type": "execute_result"
    }
   ],
   "source": [
    "sz= np.array(P_up)/2 + P_down/(-2) # a factor of hbar\n",
    "sz"
   ]
  },
  {
   "cell_type": "code",
   "execution_count": null,
   "metadata": {},
   "outputs": [],
   "source": [
    "P_xup = "
   ]
  }
 ],
 "metadata": {
  "kernelspec": {
   "display_name": "Python 3",
   "language": "python",
   "name": "python3"
  },
  "language_info": {
   "codemirror_mode": {
    "name": "ipython",
    "version": 3
   },
   "file_extension": ".py",
   "mimetype": "text/x-python",
   "name": "python",
   "nbconvert_exporter": "python",
   "pygments_lexer": "ipython3",
   "version": "3.6.4"
  }
 },
 "nbformat": 4,
 "nbformat_minor": 2
}
